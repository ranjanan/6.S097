{
 "cells": [
  {
   "cell_type": "markdown",
   "metadata": {},
   "source": [
    "# Memory Layout\n",
    "\n",
    "This notebook deals with the relationship between performance and how effectively you exploit the computer's memory hierarchy. \n",
    "\n",
    "There are three major points you need to remember: \n",
    "\n",
    "1. When CPU runs an instruction it operates on things in the registers. If something is not in the CPU registers, the CPU needs to fetch the data from memory: this is SLOW!!!\n",
    "2. The CPU first looks at L1 cache, then L2 cache then Main memory and then Swap space - L1, L2 caches are still small (order of megabytes), but hitting them often will give orders of magnitude performance gain as compared to hitting main memory that often\n",
    "3. The computer optimistically brings things from main memory onto the caches when you access a chunk of data. Hence if you access data that is continuous in memory, they all get asynchronously brought into the cache and your program will be really fast."
   ]
  },
  {
   "cell_type": "markdown",
   "metadata": {},
   "source": [
    "### A brief aside: `mutable struct`s\n",
    "\n",
    "So far, we've dealt only with `struct`s. The problem with structs is that they don't let you change its contents. Consider the following example:"
   ]
  },
  {
   "cell_type": "code",
   "execution_count": null,
   "metadata": {},
   "outputs": [],
   "source": [
    "struct Thing\n",
    "    a::Int\n",
    "end"
   ]
  },
  {
   "cell_type": "code",
   "execution_count": null,
   "metadata": {},
   "outputs": [],
   "source": [
    "x = Thing(1)\n",
    "x.a = 2"
   ]
  },
  {
   "cell_type": "markdown",
   "metadata": {},
   "source": [
    "If you'd like to change the value stored in your object, you must `mutable struct`s instead. "
   ]
  },
  {
   "cell_type": "code",
   "execution_count": null,
   "metadata": {},
   "outputs": [],
   "source": [
    "mutable struct Thing2\n",
    "    a::Int\n",
    "end"
   ]
  },
  {
   "cell_type": "code",
   "execution_count": null,
   "metadata": {},
   "outputs": [],
   "source": [
    "x = Thing2(1)\n",
    "x.a = 2\n",
    "x"
   ]
  },
  {
   "cell_type": "markdown",
   "metadata": {},
   "source": [
    "This looks convenient! Let's continue exploring `mutable struct`s for a bit."
   ]
  },
  {
   "cell_type": "code",
   "execution_count": null,
   "metadata": {},
   "outputs": [],
   "source": [
    "abstract type TestType end"
   ]
  },
  {
   "cell_type": "markdown",
   "metadata": {},
   "source": [
    "`abstract` types are types you can use represent abstract concepts. \n",
    "\n",
    "For example, \"car\" can be an abstract type, which doesn't commit to any specifics, while concrete types like \"Porche\" would be very specific.\n",
    "\n",
    "Now, types can have subtypes. Recall `Integer` represents a bunch a different Integer types. More specifically, `Int64` and `Int32` are **subtypes** of `Int64` and conversely, `Integer` is the **supertype** of `Int64` and `Int32`. \n",
    "\n",
    "Okay, now let's create a subtype of `TestType`: "
   ]
  },
  {
   "cell_type": "code",
   "execution_count": null,
   "metadata": {},
   "outputs": [],
   "source": [
    "mutable struct Typ <: TestType\n",
    "    x::Int16\n",
    "    y::Int16\n",
    "end"
   ]
  },
  {
   "cell_type": "markdown",
   "metadata": {},
   "source": [
    "We already know how to overload `+`."
   ]
  },
  {
   "cell_type": "code",
   "execution_count": null,
   "metadata": {},
   "outputs": [],
   "source": [
    "Base.:+(a::T, b::T) where {T<:TestType} = T(a.x+b.x, a.y+b.y)"
   ]
  },
  {
   "cell_type": "code",
   "execution_count": null,
   "metadata": {},
   "outputs": [],
   "source": [
    "Typ(2,2) + Typ(4,4)"
   ]
  },
  {
   "cell_type": "markdown",
   "metadata": {},
   "source": [
    "Now let's start thinking about sizes, specifically: sizes of objects in memory. "
   ]
  },
  {
   "cell_type": "markdown",
   "metadata": {},
   "source": [
    "The size of `Typ` is 4 bytes."
   ]
  },
  {
   "cell_type": "code",
   "execution_count": null,
   "metadata": {},
   "outputs": [],
   "source": [
    "sizeof(Typ(2,2))"
   ]
  },
  {
   "cell_type": "code",
   "execution_count": null,
   "metadata": {},
   "outputs": [],
   "source": [
    "@time typ_arr = [Typ(i%127,i%127) for i=1:10^6];"
   ]
  },
  {
   "cell_type": "markdown",
   "metadata": {},
   "source": [
    "Notice the allocation. \n"
   ]
  },
  {
   "cell_type": "code",
   "execution_count": null,
   "metadata": {},
   "outputs": [],
   "source": [
    "sizeof(typ_arr)"
   ]
  },
  {
   "cell_type": "markdown",
   "metadata": {},
   "source": [
    "**Claim**: This array is bigger than it should be!! Can you see why?"
   ]
  },
  {
   "cell_type": "code",
   "execution_count": null,
   "metadata": {},
   "outputs": [],
   "source": [
    "sizeof(typ_arr) / 10^6 # bytes per object"
   ]
  },
  {
   "cell_type": "markdown",
   "metadata": {},
   "source": [
    "This is because mutable objects are **passed by reference**!! The objects are being \"boxed\"."
   ]
  },
  {
   "cell_type": "markdown",
   "metadata": {},
   "source": [
    "**Discuss**: why are they being passed by reference?"
   ]
  },
  {
   "cell_type": "markdown",
   "metadata": {},
   "source": [
    "Sum could also have been much more efficient...."
   ]
  },
  {
   "cell_type": "code",
   "execution_count": null,
   "metadata": {},
   "outputs": [],
   "source": [
    "@time sum(typ_arr)"
   ]
  },
  {
   "cell_type": "code",
   "execution_count": null,
   "metadata": {},
   "outputs": [],
   "source": [
    "struct Imm <: TestType\n",
    "    x::Int16\n",
    "    y::Int16\n",
    "end"
   ]
  },
  {
   "cell_type": "code",
   "execution_count": null,
   "metadata": {},
   "outputs": [],
   "source": [
    "sizeof(Imm(2,2))"
   ]
  },
  {
   "cell_type": "code",
   "execution_count": null,
   "metadata": {},
   "outputs": [],
   "source": [
    "@time imm_arr = [Imm(i%127,i%127) for i=1:10^6];"
   ]
  },
  {
   "cell_type": "code",
   "execution_count": null,
   "metadata": {},
   "outputs": [],
   "source": [
    "sizeof(imm_arr)"
   ]
  },
  {
   "cell_type": "markdown",
   "metadata": {},
   "source": [
    "**Seems correct!**"
   ]
  },
  {
   "cell_type": "markdown",
   "metadata": {},
   "source": [
    "Since structs can never be changed, their value _is_ their identity, the compiler can **pass them by value**"
   ]
  },
  {
   "cell_type": "code",
   "execution_count": null,
   "metadata": {},
   "outputs": [],
   "source": [
    "Base.:+(a::Imm, b::Imm) = Imm(a.x+b.x, a.y+b.y)"
   ]
  },
  {
   "cell_type": "code",
   "execution_count": null,
   "metadata": {},
   "outputs": [],
   "source": [
    "@time sum(imm_arr)"
   ]
  },
  {
   "cell_type": "code",
   "execution_count": null,
   "metadata": {},
   "outputs": [],
   "source": [
    "x = rand(10^6)\n",
    "\n",
    "@time sum(x)"
   ]
  },
  {
   "cell_type": "markdown",
   "metadata": {},
   "source": [
    "The compiler can do this optimization because it knows someone else won't be changing the insides of the `Imm` object!"
   ]
  },
  {
   "cell_type": "markdown",
   "metadata": {},
   "source": [
    "If you don't know the type of the insides of an immutable type, you can tack on a type parameter.\n",
    "\n",
    "For example"
   ]
  },
  {
   "cell_type": "code",
   "execution_count": null,
   "metadata": {},
   "outputs": [],
   "source": [
    "struct ImmParam{T} <: TestType\n",
    "    x::T\n",
    "    y::T\n",
    "end"
   ]
  },
  {
   "cell_type": "code",
   "execution_count": null,
   "metadata": {},
   "outputs": [],
   "source": [
    "sizeof(ImmParam{Int128}) # sizeof also works on the "
   ]
  },
  {
   "cell_type": "code",
   "execution_count": null,
   "metadata": {},
   "outputs": [],
   "source": [
    "sizeof(ImmParam{Int8})"
   ]
  },
  {
   "cell_type": "code",
   "execution_count": null,
   "metadata": {},
   "outputs": [],
   "source": [
    "ImmParam{Int8} == ImmParam{Int64}"
   ]
  },
  {
   "cell_type": "code",
   "execution_count": null,
   "metadata": {},
   "outputs": [],
   "source": [
    "ImmParam(1.0,2.0) # Julia can automatically infer this"
   ]
  },
  {
   "cell_type": "code",
   "execution_count": null,
   "metadata": {},
   "outputs": [],
   "source": [
    "ImmParam(1,2)"
   ]
  },
  {
   "cell_type": "code",
   "execution_count": null,
   "metadata": {},
   "outputs": [],
   "source": [
    "ImmParam(1.0,2) # Type parameter ensures that both remain same type"
   ]
  },
  {
   "cell_type": "markdown",
   "metadata": {},
   "source": [
    "**Memory alignment is tight!** This means this entire array is store continguously in memory. "
   ]
  },
  {
   "cell_type": "code",
   "execution_count": null,
   "metadata": {},
   "outputs": [],
   "source": [
    "@time imm_par_array_int16 = [ImmParam{Int16}(2,3) for i = 1:10^6];"
   ]
  },
  {
   "cell_type": "code",
   "execution_count": null,
   "metadata": {},
   "outputs": [],
   "source": [
    "sizeof(imm_par_array_int16)"
   ]
  },
  {
   "cell_type": "code",
   "execution_count": null,
   "metadata": {},
   "outputs": [],
   "source": [
    "@time imm_par_array_int8 = [ImmParam{Int8}(2,3) for i = 1:10^6];"
   ]
  },
  {
   "cell_type": "code",
   "execution_count": null,
   "metadata": {},
   "outputs": [],
   "source": [
    "sizeof(imm_par_array_int8)"
   ]
  },
  {
   "cell_type": "code",
   "execution_count": null,
   "metadata": {},
   "outputs": [],
   "source": [
    "using Interact"
   ]
  },
  {
   "cell_type": "code",
   "execution_count": null,
   "metadata": {},
   "outputs": [],
   "source": [
    "mutable struct TypParam{T} <: TestType\n",
    "    x::T\n",
    "    y::T\n",
    "end"
   ]
  },
  {
   "cell_type": "code",
   "execution_count": null,
   "metadata": {},
   "outputs": [],
   "source": [
    "@manipulate for param = [Int8,Int16,Int32,Int64,Float16,Float32,Float64], complex=true\n",
    "    T = complex ? Complex{param} : param\n",
    "    a = zero(T)\n",
    "    b = one(T)\n",
    "\n",
    "    GC.gc()  \n",
    "    local arr,t_create,arr_t,t_create_t,t_sum,t_sum_t\n",
    "\n",
    "    alloc_create = @allocated begin\n",
    "        t_create = @elapsed begin\n",
    "            arr = [ImmParam(a,b) for i=1:10^6]\n",
    "        end\n",
    "    end\n",
    "\n",
    "    alloc_create_t = @allocated begin\n",
    "        t_create_t = @elapsed begin\n",
    "            arr_t = [TypParam(a,b) for i=1:10^6]\n",
    "        end\n",
    "    end\n",
    "\n",
    "    GC.gc()\n",
    "    \n",
    "    alloc_sum = @allocated begin\n",
    "        t_sum = @elapsed begin\n",
    "            s = sum(arr)\n",
    "        end\n",
    "    end/10^6\n",
    "\n",
    "    alloc_sum_t = @allocated begin\n",
    "        t_sum_t = @elapsed begin\n",
    "            s_t = sum(arr_t)\n",
    "        end\n",
    "    end/10^6\n",
    "    HTML(\"\"\"<table width=\"100%\" cellspacing=\"2\" cellpadding=\"0\" border=\"0\" align=\"center\" bgcolor=\"#ff6600\" ><tbody>\n",
    "        <thead>\n",
    "        <tr>\n",
    "            <th colspan=4>struct</th> \n",
    "            <th colspan=4>mutable struct</th>\n",
    "        </tr>\n",
    "        <tr>\n",
    "            <th colspan=2>create</th> \n",
    "            <th colspan=2>sum</th>\n",
    "            <th colspan=2>create</th> \n",
    "            <th colspan=2>sum</th>\n",
    "        </tr>\n",
    "        <tr>\n",
    "            <th>time</th>\n",
    "            <th>memory</th>\n",
    "            <th>time</th>\n",
    "            <th>memory</th>\n",
    "            <th>time</th>\n",
    "            <th>memory</th>\n",
    "            <th>time</th>\n",
    "            <th>memory</th>\n",
    "\n",
    "        </tr>\n",
    "        </thead>\n",
    "        <tr>\n",
    "            <td>$t_create</td>\n",
    "            <td>$alloc_create</td>\n",
    "            <td>$t_sum</td>\n",
    "            <td>$alloc_sum</td>\n",
    "            <td>$t_create_t</td>\n",
    "            <td>$alloc_create_t</td>\n",
    "            <td>$t_sum_t</td>\n",
    "            <td>$alloc_sum_t</td>\n",
    "        </tr>\n",
    "        </tbody></table>\"\"\")\n",
    "end"
   ]
  },
  {
   "cell_type": "markdown",
   "metadata": {},
   "source": [
    "## But be careful! Vectors of Heterogeneous types force boxing!\n"
   ]
  },
  {
   "cell_type": "code",
   "execution_count": null,
   "metadata": {},
   "outputs": [],
   "source": [
    "[\"xyzabc\", 1+2im, 1, 1.0]"
   ]
  },
  {
   "cell_type": "code",
   "execution_count": null,
   "metadata": {},
   "outputs": [],
   "source": [
    "[ImmParam(UInt8(1),UInt8(1)), ImmParam(1.0,1.0)] |> sizeof"
   ]
  },
  {
   "cell_type": "code",
   "execution_count": null,
   "metadata": {},
   "outputs": [],
   "source": [
    "@time heter_arr = [i%2 == 0 ? ImmParam(UInt8(1),UInt8(1)) : ImmParam(1.0,1.0) for i = 1:10^6]"
   ]
  },
  {
   "cell_type": "code",
   "execution_count": null,
   "metadata": {},
   "outputs": [],
   "source": [
    "@time sum(heter_arr) # why doesn't this work?"
   ]
  },
  {
   "cell_type": "markdown",
   "metadata": {},
   "source": [
    "## Summary\n",
    "\n",
    "- Use immutables wherever you consider something to be a *value*. Use type when something is a *state*.\n",
    "- Never create a large array of mutable objects! Each one is heap-allocated, this kills performance and gives the GC a hard time.\n",
    "- Parameterize if you need to change types\n",
    "- In the wizard's own words: http://julialang.org/blog/2013/03/efficient-aggregates"
   ]
  },
  {
   "cell_type": "code",
   "execution_count": null,
   "metadata": {},
   "outputs": [],
   "source": []
  }
 ],
 "metadata": {
  "kernelspec": {
   "display_name": "Julia 1.1.0",
   "language": "julia",
   "name": "julia-1.1"
  },
  "language_info": {
   "file_extension": ".jl",
   "mimetype": "application/julia",
   "name": "julia",
   "version": "1.1.0"
  }
 },
 "nbformat": 4,
 "nbformat_minor": 2
}
