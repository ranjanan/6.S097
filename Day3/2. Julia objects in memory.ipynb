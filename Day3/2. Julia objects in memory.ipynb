{
 "cells": [
  {
   "cell_type": "code",
   "execution_count": null,
   "metadata": {},
   "outputs": [],
   "source": [
    "using Interact"
   ]
  },
  {
   "cell_type": "code",
   "execution_count": null,
   "metadata": {},
   "outputs": [],
   "source": [
    "const dot = node(:div, \"\", style=Dict(:height=>6px, :width=>6px, :borderRadius=>3px))\n",
    "const on = dot(style(:backgroundColor => :tomato))\n",
    "const off = dot(style(:backgroundColor => :black))\n",
    "\n",
    "function showbits(x)\n",
    "    str = bitstring(x)\n",
    "    if length(str) % 8 != 0\n",
    "        extra = 8 - (length(str) % 8)\n",
    "        str *= \"0\"^extra\n",
    "    end\n",
    "    mx = reshape([str...], 8, div(length(str), 8))\n",
    "    hbox(mapslices(vbox, map(x -> x=='1' ? on : off, mx), dims=1)...)\n",
    "end\n",
    "\n",
    "const boxstyle = Dict(:border=>\"1px solid #777\")\n",
    "const redboxstyle = Dict(:border=>\"1px solid #f13211\")\n",
    "\n",
    "function showbox(x; bits=true, typ=true, unbox=true, redbox=!isbitstype(typeof(x)))\n",
    "    if isprimitivetype(typeof(x))\n",
    "        content= bits ? showbits(x) : x\n",
    "    elseif unbox > 0 && isbitstype(typeof(x))\n",
    "        fns = fieldnames(typeof(x))\n",
    "        content = hbox([showbox(getfield(x, f), typ=!unbox, unbox=unbox) for f in fns])\n",
    "    elseif fieldcount(typeof(x)) == 0\n",
    "        content = repr(x)\n",
    "    else\n",
    "        fns = fieldnames(typeof(x))\n",
    "        content = hbox([(unbx = isbitstype(fieldtype(typeof(x), f)); showbox(getfield(x, f), unbox=unbx,\n",
    "                        typ=!unbox || !unbx, redbox=!unbx)) for f in fns])\n",
    "    end\n",
    "    \n",
    "    if typ\n",
    "        hbox(\n",
    "            hbox(\n",
    "                pad(0.5em, typeof(x)),\n",
    "                vline(color=\"#777\"),\n",
    "                pad(0.5em, content)\n",
    "            )(style=redbox ? redboxstyle : boxstyle)\n",
    "        )\n",
    "    else\n",
    "        pad(0.5em, content)\n",
    "    end\n",
    "end\n",
    "\n",
    "function showbox(x::Array; unbox=true, kwargs...)\n",
    "    unbox_children = unbox && isbitstype(eltype(x))\n",
    "    hbox(\n",
    "        hbox(\n",
    "            pad(0.5em, typeof(x)),\n",
    "            vline(color=\"#777\"),\n",
    "            pad(0.5em, hbox(map(a->showbox(a, typ=!unbox_children, unbox=unbox_children, redbox=!isbitstype(eltype(x))), x)))\n",
    "        )(style=redboxstyle)\n",
    "    )\n",
    "end"
   ]
  },
  {
   "cell_type": "markdown",
   "metadata": {},
   "source": [
    "## Julia objects in memory"
   ]
  },
  {
   "cell_type": "markdown",
   "metadata": {},
   "source": [
    "A julia object is a type-value pair"
   ]
  },
  {
   "cell_type": "code",
   "execution_count": null,
   "metadata": {},
   "outputs": [],
   "source": [
    "showbox(42, bits=false)"
   ]
  },
  {
   "cell_type": "code",
   "execution_count": null,
   "metadata": {},
   "outputs": [],
   "source": [
    "showbox(42)"
   ]
  },
  {
   "cell_type": "code",
   "execution_count": null,
   "metadata": {},
   "outputs": [],
   "source": [
    "@manipulate for i = 0:64, fᵢ = Dict(\"2ⁱ\"=>i->2^i, \"2ⁱ-1\" => i->2^i-1, \"-2ⁱ\"=>i->-2^i)\n",
    "    showbox(fᵢ(i))\n",
    "end"
   ]
  },
  {
   "cell_type": "code",
   "execution_count": null,
   "metadata": {},
   "outputs": [],
   "source": [
    "showbox(UInt32(42))"
   ]
  },
  {
   "cell_type": "code",
   "execution_count": null,
   "metadata": {},
   "outputs": [],
   "source": [
    "showbox('x')"
   ]
  },
  {
   "cell_type": "code",
   "execution_count": null,
   "metadata": {},
   "outputs": [],
   "source": [
    "showbox(UInt128(12345678901234567812345678923456784567))"
   ]
  },
  {
   "cell_type": "code",
   "execution_count": null,
   "metadata": {},
   "outputs": [],
   "source": [
    "showbox(1+2im, unbox=false)"
   ]
  },
  {
   "cell_type": "code",
   "execution_count": null,
   "metadata": {},
   "outputs": [],
   "source": [
    "showbox(0.1f0+0.2f0im, unbox=false)"
   ]
  },
  {
   "cell_type": "markdown",
   "metadata": {},
   "source": [
    "## Unboxing\n",
    "\n",
    "Removes redundant type tags, and \"inlines\" data into a single box!"
   ]
  },
  {
   "cell_type": "code",
   "execution_count": null,
   "metadata": {},
   "outputs": [],
   "source": [
    "showbox(0.1f0+0.2f0im)"
   ]
  },
  {
   "cell_type": "code",
   "execution_count": null,
   "metadata": {},
   "outputs": [],
   "source": [
    "struct Cplx2{T<:Number,S<:Number}\n",
    "    re::T\n",
    "    im::S\n",
    "end"
   ]
  },
  {
   "cell_type": "code",
   "execution_count": null,
   "metadata": {},
   "outputs": [],
   "source": [
    "Cplx2(1,1.0) |> dump"
   ]
  },
  {
   "cell_type": "code",
   "execution_count": null,
   "metadata": {},
   "outputs": [],
   "source": [
    "showbox(Cplx2(1,1.0f0))"
   ]
  },
  {
   "cell_type": "markdown",
   "metadata": {},
   "source": [
    "**Structs with abstract fields**\n",
    "- Can't guarrantee the concrete type it can take, hence need to store tag of the field -- means cannot be unboxed\n",
    "-  require Garbage collection (red box)\n"
   ]
  },
  {
   "cell_type": "code",
   "execution_count": null,
   "metadata": {},
   "outputs": [],
   "source": [
    "struct Foo\n",
    "    x::Real\n",
    "end"
   ]
  },
  {
   "cell_type": "code",
   "execution_count": null,
   "metadata": {},
   "outputs": [],
   "source": [
    "showbox(Foo(1<<27))"
   ]
  },
  {
   "cell_type": "code",
   "execution_count": null,
   "metadata": {},
   "outputs": [],
   "source": [
    "showbox(0.1f0+0.2f0im)"
   ]
  },
  {
   "cell_type": "markdown",
   "metadata": {},
   "source": [
    "**Unboxing is recursive**"
   ]
  },
  {
   "cell_type": "code",
   "execution_count": null,
   "metadata": {},
   "outputs": [],
   "source": [
    "showbox(42//11+((2^42-1)//8)im, unbox=false) # Not unboxed"
   ]
  },
  {
   "cell_type": "code",
   "execution_count": null,
   "metadata": {},
   "outputs": [],
   "source": [
    "showbox(42//11+((2^42-1)//8)im)"
   ]
  },
  {
   "cell_type": "code",
   "execution_count": null,
   "metadata": {},
   "outputs": [],
   "source": [
    "showbox((1,2.3, 2.3f0))"
   ]
  },
  {
   "cell_type": "markdown",
   "metadata": {},
   "source": [
    "## Mutable types don't get unboxed!"
   ]
  },
  {
   "cell_type": "code",
   "execution_count": null,
   "metadata": {},
   "outputs": [],
   "source": [
    "mutable struct Cplx4{T<:Real}\n",
    "    re::T\n",
    "    im::T\n",
    "end\n",
    "\n",
    "\n",
    "Base.:+(a::Cplx4, b::Cplx4) = Cplx4(a.re + b.re, a.im + b.im)\n",
    "Base.zero(a::Cplx4) = Cplx4(zero(a.re), zero(a.im))"
   ]
  },
  {
   "cell_type": "code",
   "execution_count": null,
   "metadata": {},
   "outputs": [],
   "source": [
    "x = Cplx4(1,0)\n",
    "x.re = 3\n",
    "x\n"
   ]
  },
  {
   "cell_type": "code",
   "execution_count": null,
   "metadata": {},
   "outputs": [],
   "source": [
    "showbox((Cplx4(1,2), Cplx4(3,4)), unbox=true) # Yes, please unbox!! (but it won't)"
   ]
  },
  {
   "cell_type": "markdown",
   "metadata": {},
   "source": [
    "**Note!!** red boxes must be tracked by the GC! Black ones may be tracked if they have to undergo dispatch at runtime.\n",
    "\n",
    "One red box makes the parent boxes red! But Julia 1.0 has some optimizations to not track the outer red boxes in the GC under the most common scenarios: e.g. if you're making this tuple in a loop."
   ]
  },
  {
   "cell_type": "markdown",
   "metadata": {},
   "source": [
    "## Arrays"
   ]
  },
  {
   "cell_type": "code",
   "execution_count": null,
   "metadata": {},
   "outputs": [],
   "source": [
    "showbox(rand(0:0.1:1, 6), unbox=false)"
   ]
  },
  {
   "cell_type": "code",
   "execution_count": null,
   "metadata": {},
   "outputs": [],
   "source": [
    "showbox(rand(0:0.1:1, 6))"
   ]
  },
  {
   "cell_type": "code",
   "execution_count": null,
   "metadata": {},
   "outputs": [],
   "source": [
    "showbox(Any[1,0.2,3,\"four\",5])"
   ]
  },
  {
   "cell_type": "code",
   "execution_count": null,
   "metadata": {},
   "outputs": [],
   "source": [
    "showbox([1//2+(3//4)im,\n",
    "        rand(Int)//rand(Int)+(rand(Int)//rand(Int))im])"
   ]
  },
  {
   "cell_type": "code",
   "execution_count": null,
   "metadata": {},
   "outputs": [],
   "source": [
    "showbox([Cplx4(rand(),rand()), Cplx4(rand(),rand())])"
   ]
  },
  {
   "cell_type": "markdown",
   "metadata": {},
   "source": [
    "## Strings are immutable only semantically\n",
    "\n",
    "**but we don't want to specialize structs on their length** so\n",
    "\n",
    "1. they are tracked by GC\n",
    "2. structs with strings are tracked by GC"
   ]
  },
  {
   "cell_type": "code",
   "execution_count": null,
   "metadata": {},
   "outputs": [],
   "source": [
    "showbox(\"hi\")"
   ]
  },
  {
   "cell_type": "code",
   "execution_count": null,
   "metadata": {},
   "outputs": [],
   "source": [
    "showbox((255, \"hello\", 3.3))"
   ]
  },
  {
   "cell_type": "code",
   "execution_count": null,
   "metadata": {},
   "outputs": [],
   "source": []
  },
  {
   "cell_type": "code",
   "execution_count": null,
   "metadata": {},
   "outputs": [],
   "source": []
  }
 ],
 "metadata": {
  "kernelspec": {
   "display_name": "Julia 1.1.0",
   "language": "julia",
   "name": "julia-1.1"
  },
  "language_info": {
   "file_extension": ".jl",
   "mimetype": "application/julia",
   "name": "julia",
   "version": "1.1.0"
  }
 },
 "nbformat": 4,
 "nbformat_minor": 2
}
