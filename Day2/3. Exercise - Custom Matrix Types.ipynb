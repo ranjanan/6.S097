{
 "cells": [
  {
   "cell_type": "markdown",
   "metadata": {},
   "source": [
    "# Exercise: Generic vs Specialized\n",
    "\n",
    "In this notebook, we're going to create a custom matrix type that depends on $n$ parameters as opposed to $n^2$ parameters in case of a regular dense matrix."
   ]
  },
  {
   "cell_type": "code",
   "execution_count": null,
   "metadata": {},
   "outputs": [],
   "source": [
    "using LinearAlgebra"
   ]
  },
  {
   "cell_type": "markdown",
   "metadata": {},
   "source": [
    "It turns out the following type of matrix: \n",
    "\n",
    "$$\n",
    "M(v) = Diagonal(v) + vv'\n",
    "$$\n",
    "\n",
    "has a special formula for its largest eigenvalue. \n",
    "\n",
    "$v$ denotes the parameters $M$ depends on. \n",
    "\n",
    "**Example**: "
   ]
  },
  {
   "cell_type": "code",
   "execution_count": null,
   "metadata": {},
   "outputs": [],
   "source": [
    "v = rand(4)"
   ]
  },
  {
   "cell_type": "code",
   "execution_count": null,
   "metadata": {},
   "outputs": [],
   "source": [
    "Diagonal(v) + v*v'"
   ]
  },
  {
   "cell_type": "markdown",
   "metadata": {},
   "source": [
    "**Exercise 1**: Write a custom matrix type that represents this matrix. Does your type capture the matrix's \"structure\"? Can you observe any other kind of simpler matrix structure?"
   ]
  },
  {
   "cell_type": "markdown",
   "metadata": {},
   "source": [
    "## Compute the largest eigenvalue¶\n"
   ]
  },
  {
   "cell_type": "markdown",
   "metadata": {},
   "source": [
    "The `LinearAlgebra` module provides a function `eigmax` which calculates the largest eigenvalue of a matrix. "
   ]
  },
  {
   "cell_type": "markdown",
   "metadata": {},
   "source": [
    "**Exercise 2**: What's the largest eigenvalue of our \"custom\" matrix with parameters `[1,2,3,4]` ?"
   ]
  },
  {
   "cell_type": "markdown",
   "metadata": {},
   "source": [
    "So it turns out that the largest eigenvalue of our matrix happens to be the zero of the following function: \n",
    "\n",
    "$$\n",
    "f(\\lambda) = 1 + \\sum_{i=1}^{N} \\frac{v_i^2}{v_i - \\lambda}\n",
    "$$\n",
    "\n",
    "that is bigger than the largest element of $v$. \n",
    "\n",
    "Try to construct an `eigmax` routine for this Custom type, and overload `LinearAlgebra`'s `eigmax`. Use the following Newton's method as a skeleton:"
   ]
  },
  {
   "cell_type": "markdown",
   "metadata": {},
   "source": [
    "```julia\n",
    "# Skeleton for a Newton's method\n",
    "\n",
    "function newton_skeleton(custom_matrix, tol = 1e-6, x0 = starting_point, debug = false)\n",
    "    delta = function_eval / derivative_eval \n",
    "    while abs(δ) > x0 * tol               \n",
    "        shift starting point by delta\n",
    "        calculate delta again\n",
    "        write a debug statement to see if it works\n",
    "    end\n",
    "    x0\n",
    "end\n",
    "```"
   ]
  },
  {
   "cell_type": "code",
   "execution_count": null,
   "metadata": {},
   "outputs": [],
   "source": []
  }
 ],
 "metadata": {
  "kernelspec": {
   "display_name": "Julia 1.1.0",
   "language": "julia",
   "name": "julia-1.1"
  },
  "language_info": {
   "file_extension": ".jl",
   "mimetype": "application/julia",
   "name": "julia",
   "version": "1.1.0"
  }
 },
 "nbformat": 4,
 "nbformat_minor": 2
}
