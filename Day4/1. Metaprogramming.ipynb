{
 "cells": [
  {
   "cell_type": "markdown",
   "metadata": {
    "slideshow": {
     "slide_type": "slide"
    }
   },
   "source": [
    "## Code that writes code!\n",
    "\n",
    "We all need this.\n",
    "\n",
    ">\n",
    "> _metaprogramming (noun)_\n",
    ">\n",
    "> (programming) Writing computer programs that write or manipulate other programs (or themselves) as their data..."
   ]
  },
  {
   "cell_type": "markdown",
   "metadata": {
    "slideshow": {
     "slide_type": "slide"
    }
   },
   "source": [
    "## Homoiconicity\n",
    "\n",
    "Code in language X can also be treated as data in language X.\n",
    "\n",
    "X =\n",
    "- Scheme\n",
    "- Lisp\n",
    "- Julia\n",
    "- Prolog\n",
    "- Wolfram Language\n",
    "- ..."
   ]
  },
  {
   "cell_type": "markdown",
   "metadata": {
    "slideshow": {
     "slide_type": "slide"
    }
   },
   "source": [
    "## Code as data (\"quoting\")"
   ]
  },
  {
   "cell_type": "code",
   "execution_count": 75,
   "metadata": {},
   "outputs": [
    {
     "data": {
      "text/plain": [
       "8"
      ]
     },
     "execution_count": 75,
     "metadata": {},
     "output_type": "execute_result"
    }
   ],
   "source": [
    "gcd(32,24)"
   ]
  },
  {
   "cell_type": "code",
   "execution_count": 18,
   "metadata": {
    "slideshow": {
     "slide_type": "fragment"
    }
   },
   "outputs": [
    {
     "data": {
      "text/plain": [
       ":(gcd(32, 24))"
      ]
     },
     "execution_count": 18,
     "metadata": {},
     "output_type": "execute_result"
    }
   ],
   "source": [
    "ex = :(gcd(32,24))"
   ]
  },
  {
   "cell_type": "code",
   "execution_count": 19,
   "metadata": {},
   "outputs": [
    {
     "name": "stdout",
     "output_type": "stream",
     "text": [
      "Expr\n",
      "  head: Symbol call\n",
      "  args: Array{Any}((3,))\n",
      "    1: Symbol gcd\n",
      "    2: Int64 32\n",
      "    3: Int64 24\n"
     ]
    }
   ],
   "source": [
    "dump(ex)"
   ]
  },
  {
   "cell_type": "markdown",
   "metadata": {
    "slideshow": {
     "slide_type": "slide"
    }
   },
   "source": [
    "## Code as data (\"quoting\")"
   ]
  },
  {
   "cell_type": "code",
   "execution_count": 1,
   "metadata": {
    "slideshow": {
     "slide_type": "-"
    }
   },
   "outputs": [
    {
     "data": {
      "text/plain": [
       ":(gcd(32, 24))"
      ]
     },
     "execution_count": 1,
     "metadata": {},
     "output_type": "execute_result"
    }
   ],
   "source": [
    "ex = :(gcd(32,24))"
   ]
  },
  {
   "cell_type": "code",
   "execution_count": 22,
   "metadata": {},
   "outputs": [
    {
     "data": {
      "text/plain": [
       "Expr"
      ]
     },
     "execution_count": 22,
     "metadata": {},
     "output_type": "execute_result"
    }
   ],
   "source": [
    "typeof(ex)"
   ]
  },
  {
   "cell_type": "code",
   "execution_count": 21,
   "metadata": {},
   "outputs": [
    {
     "data": {
      "text/plain": [
       ":call"
      ]
     },
     "execution_count": 21,
     "metadata": {},
     "output_type": "execute_result"
    }
   ],
   "source": [
    "ex.head"
   ]
  },
  {
   "cell_type": "code",
   "execution_count": 20,
   "metadata": {},
   "outputs": [
    {
     "data": {
      "text/plain": [
       "3-element Array{Any,1}:\n",
       "   :gcd\n",
       " 32    \n",
       " 24    "
      ]
     },
     "execution_count": 20,
     "metadata": {},
     "output_type": "execute_result"
    }
   ],
   "source": [
    "ex.args"
   ]
  },
  {
   "cell_type": "markdown",
   "metadata": {
    "slideshow": {
     "slide_type": "slide"
    }
   },
   "source": [
    "## Infix\n",
    "\n",
    "In Sceme everything follows this convention:\n",
    "\n",
    "```scm\n",
    "(gcd 32 24)\n",
    "(+ 32 24)\n",
    "(* (gcd 32 24) (lcm 32 24))\n",
    "```\n",
    "\n",
    "In Julia we write\n",
    "\n",
    "```julia\n",
    "gcd(32, 24)\n",
    "32 + 24\n",
    "gcd(32, 24) * lcm(32, 24)\n",
    "```\n",
    "\n",
    "But Julia is secretly a lisp..."
   ]
  },
  {
   "cell_type": "code",
   "execution_count": 23,
   "metadata": {
    "slideshow": {
     "slide_type": "fragment"
    }
   },
   "outputs": [
    {
     "name": "stdout",
     "output_type": "stream",
     "text": [
      "Expr\n",
      "  head: Symbol call\n",
      "  args: Array{Any}((3,))\n",
      "    1: Symbol +\n",
      "    2: Int64 32\n",
      "    3: Int64 24\n"
     ]
    }
   ],
   "source": [
    "dump(:(32 + 24))"
   ]
  },
  {
   "cell_type": "markdown",
   "metadata": {
    "slideshow": {
     "slide_type": "slide"
    }
   },
   "source": [
    "## Different ways to quote"
   ]
  },
  {
   "cell_type": "code",
   "execution_count": 15,
   "metadata": {},
   "outputs": [
    {
     "data": {
      "text/plain": [
       ":(gcd(32, 24))"
      ]
     },
     "execution_count": 15,
     "metadata": {},
     "output_type": "execute_result"
    }
   ],
   "source": [
    "Expr(:call, :gcd, 32, 24)"
   ]
  },
  {
   "cell_type": "code",
   "execution_count": 18,
   "metadata": {},
   "outputs": [
    {
     "data": {
      "text/plain": [
       ":(gcd(32, 24))"
      ]
     },
     "execution_count": 18,
     "metadata": {},
     "output_type": "execute_result"
    }
   ],
   "source": [
    "ex = :(gcd(32,24))"
   ]
  },
  {
   "cell_type": "code",
   "execution_count": 20,
   "metadata": {},
   "outputs": [
    {
     "data": {
      "text/plain": [
       "quote\n",
       "    #= In[20]:2 =#\n",
       "    g = gcd(32, 24)\n",
       "    #= In[20]:3 =#\n",
       "    l = lcm(32, 24)\n",
       "    #= In[20]:4 =#\n",
       "    g * l == 32 * 24\n",
       "end"
      ]
     },
     "execution_count": 20,
     "metadata": {},
     "output_type": "execute_result"
    }
   ],
   "source": [
    "quote\n",
    "        g = gcd(32, 24)\n",
    "        l = lcm(32, 24)\n",
    "        g*l == 32 * 24\n",
    "end"
   ]
  },
  {
   "cell_type": "markdown",
   "metadata": {
    "slideshow": {
     "slide_type": "slide"
    }
   },
   "source": [
    "## Manipulating `Expr`\n",
    "\n",
    "Just like you'd manipulate anything else in Julia."
   ]
  },
  {
   "cell_type": "code",
   "execution_count": 27,
   "metadata": {},
   "outputs": [
    {
     "data": {
      "text/plain": [
       ":(2 - 1)"
      ]
     },
     "execution_count": 27,
     "metadata": {},
     "output_type": "execute_result"
    }
   ],
   "source": [
    "ex = :(1 - 2)\n",
    "\n",
    "# Create a new expr with arguments flipped\n",
    "Expr(:call, ex.args[1], ex.args[3], ex.args[2])"
   ]
  },
  {
   "cell_type": "code",
   "execution_count": 29,
   "metadata": {},
   "outputs": [
    {
     "data": {
      "text/plain": [
       ":(2 - 1)"
      ]
     },
     "execution_count": 29,
     "metadata": {},
     "output_type": "execute_result"
    }
   ],
   "source": [
    "# Can also mutate the arguments\n",
    "\n",
    "ex.args[3], ex.args[2] = ex.args[2], ex.args[3]\n",
    "\n",
    "ex"
   ]
  },
  {
   "cell_type": "markdown",
   "metadata": {
    "slideshow": {
     "slide_type": "slide"
    }
   },
   "source": [
    "## \"Splicing\" one expression into another"
   ]
  },
  {
   "cell_type": "code",
   "execution_count": 24,
   "metadata": {},
   "outputs": [
    {
     "data": {
      "text/plain": [
       ":(1 + gcd(32, 24))"
      ]
     },
     "execution_count": 24,
     "metadata": {},
     "output_type": "execute_result"
    }
   ],
   "source": [
    "ex = :(gcd(32, 24))\n",
    "ex1 = Expr(:call, :+, 1, ex)"
   ]
  },
  {
   "cell_type": "code",
   "execution_count": 25,
   "metadata": {},
   "outputs": [
    {
     "data": {
      "text/plain": [
       ":(1 + gcd(32, 24))"
      ]
     },
     "execution_count": 25,
     "metadata": {},
     "output_type": "execute_result"
    }
   ],
   "source": [
    "ex = :(gcd(32, 24))\n",
    "ex1 = :(1 + $ex)"
   ]
  },
  {
   "cell_type": "code",
   "execution_count": 26,
   "metadata": {},
   "outputs": [
    {
     "data": {
      "text/plain": [
       "quote\n",
       "    #= In[26]:3 =#\n",
       "    1 + gcd(32, 24)\n",
       "end"
      ]
     },
     "execution_count": 26,
     "metadata": {},
     "output_type": "execute_result"
    }
   ],
   "source": [
    "ex = :(gcd(32, 24))\n",
    "ex1 = quote\n",
    "    1 + $ex\n",
    "end"
   ]
  },
  {
   "cell_type": "markdown",
   "metadata": {
    "slideshow": {
     "slide_type": "slide"
    }
   },
   "source": [
    "## Evaluating code-data (aka quoted code aka `Expr` aka Expression)"
   ]
  },
  {
   "cell_type": "markdown",
   "metadata": {},
   "source": [
    "`eval` function"
   ]
  },
  {
   "cell_type": "code",
   "execution_count": 82,
   "metadata": {},
   "outputs": [
    {
     "data": {
      "text/plain": [
       "8"
      ]
     },
     "execution_count": 82,
     "metadata": {},
     "output_type": "execute_result"
    }
   ],
   "source": [
    "# Evaluate the expression\n",
    "ex = :(gcd(32,24))\n",
    "\n",
    "eval(ex)"
   ]
  },
  {
   "cell_type": "code",
   "execution_count": 5,
   "metadata": {},
   "outputs": [
    {
     "name": "stdout",
     "output_type": "stream",
     "text": [
      ":(1 + gcd(32, 24))"
     ]
    },
    {
     "data": {
      "text/plain": [
       "9"
      ]
     },
     "execution_count": 5,
     "metadata": {},
     "output_type": "execute_result"
    }
   ],
   "source": [
    "ex1 = Expr(:call, :+, 1, ex)\n",
    "\n",
    "eval(ex1)"
   ]
  },
  {
   "cell_type": "code",
   "execution_count": 40,
   "metadata": {},
   "outputs": [
    {
     "data": {
      "text/plain": [
       "3.0"
      ]
     },
     "execution_count": 40,
     "metadata": {},
     "output_type": "execute_result"
    }
   ],
   "source": [
    "eval(quote\n",
    "        sqrt($ex1)\n",
    "end)"
   ]
  },
  {
   "cell_type": "markdown",
   "metadata": {
    "slideshow": {
     "slide_type": "slide"
    }
   },
   "source": [
    "## `@eval`\n",
    "\n",
    "It's just eval with easier syntax! \"syntactic sugar\""
   ]
  },
  {
   "cell_type": "code",
   "execution_count": 41,
   "metadata": {},
   "outputs": [
    {
     "data": {
      "text/plain": [
       "3.0"
      ]
     },
     "execution_count": 41,
     "metadata": {},
     "output_type": "execute_result"
    }
   ],
   "source": [
    "# \"Splice\" it into another expression\n",
    "\n",
    "@eval begin\n",
    "        sqrt($ex1)\n",
    "end"
   ]
  },
  {
   "cell_type": "markdown",
   "metadata": {
    "slideshow": {
     "slide_type": "slide"
    }
   },
   "source": [
    "## Symptom: repititive code"
   ]
  },
  {
   "cell_type": "code",
   "execution_count": 43,
   "metadata": {},
   "outputs": [],
   "source": [
    "using Interact"
   ]
  },
  {
   "cell_type": "code",
   "execution_count": 42,
   "metadata": {
    "slideshow": {
     "slide_type": "-"
    }
   },
   "outputs": [
    {
     "data": {
      "text/html": [
       "    <script class='js-collapse-script'>\n",
       "        var curMatch =\n",
       "            window.location.href\n",
       "            .match(/(.*?)\\/notebooks\\/.*\\.ipynb/);\n",
       "\n",
       "        curMatch = curMatch ||\n",
       "            window.location.href\n",
       "            .match(/(.*?)\\/apps\\/.*\\.ipynb/);\n",
       "\n",
       "        if ( curMatch ) {\n",
       "            $('head').append('<base href=\"' + curMatch[1] + '/\">');\n",
       "        }\n",
       "    </script>\n"
      ],
      "text/plain": [
       "HTML{String}(\"    <script class='js-collapse-script'>\\n        var curMatch =\\n            window.location.href\\n            .match(/(.*?)\\\\/notebooks\\\\/.*\\\\.ipynb/);\\n\\n        curMatch = curMatch ||\\n            window.location.href\\n            .match(/(.*?)\\\\/apps\\\\/.*\\\\.ipynb/);\\n\\n        if ( curMatch ) {\\n            \\$('head').append('<base href=\\\"' + curMatch[1] + '/\\\">');\\n        }\\n    </script>\\n\")"
      ]
     },
     "metadata": {},
     "output_type": "display_data"
    },
    {
     "data": {
      "text/html": [
       "<script class='js-collapse-script' src='/assetserver/e8f953a4abf5e4095b83e225fc5e11254819fa44-assets/webio/dist/bundle.js'></script>"
      ],
      "text/plain": [
       "HTML{String}(\"<script class='js-collapse-script' src='/assetserver/e8f953a4abf5e4095b83e225fc5e11254819fa44-assets/webio/dist/bundle.js'></script>\")"
      ]
     },
     "metadata": {},
     "output_type": "display_data"
    },
    {
     "data": {
      "text/html": [
       "<script class='js-collapse-script' src='/assetserver/e8f953a4abf5e4095b83e225fc5e11254819fa44-assets/providers/ijulia_setup.js'></script>"
      ],
      "text/plain": [
       "HTML{String}(\"<script class='js-collapse-script' src='/assetserver/e8f953a4abf5e4095b83e225fc5e11254819fa44-assets/providers/ijulia_setup.js'></script>\")"
      ]
     },
     "metadata": {},
     "output_type": "display_data"
    },
    {
     "data": {
      "text/html": [
       "  <script class='js-collapse-script'>\n",
       "    $('.js-collapse-script').parent('.output_subarea').css('padding', '0');\n",
       "  </script>\n"
      ],
      "text/plain": [
       "HTML{String}(\"  <script class='js-collapse-script'>\\n    \\$('.js-collapse-script').parent('.output_subarea').css('padding', '0');\\n  </script>\\n\")"
      ]
     },
     "metadata": {},
     "output_type": "display_data"
    },
    {
     "data": {
      "text/html": [
       "<div class='display:none'></div><unsafe-script style='display:none'>\n",
       "WebIO.mount(this.previousSibling,{&quot;props&quot;:{&quot;role&quot;:&quot;alert&quot;,&quot;className&quot;:&quot;alert alert-info&quot;},&quot;nodeType&quot;:&quot;DOM&quot;,&quot;type&quot;:&quot;node&quot;,&quot;instanceArgs&quot;:{&quot;namespace&quot;:&quot;html&quot;,&quot;tag&quot;:&quot;div&quot;},&quot;children&quot;:[{&quot;props&quot;:{&quot;setInnerHtml&quot;:&quot;&lt;div class=\\&quot;markdown\\&quot;&gt;&lt;p&gt;&lt;strong&gt;Heads up&amp;#33;&lt;/strong&gt; It&amp;#39;s not super important&amp;#33;&lt;/p&gt;\\n&lt;/div&gt;&quot;},&quot;nodeType&quot;:&quot;DOM&quot;,&quot;type&quot;:&quot;node&quot;,&quot;instanceArgs&quot;:{&quot;namespace&quot;:&quot;html&quot;,&quot;tag&quot;:&quot;div&quot;},&quot;children&quot;:[]}]})</unsafe-script>"
      ],
      "text/plain": [
       "(div { role=\"alert\" className=\"alert alert-info\" }\n",
       "  **Heads up!** It's not super important!\n",
       ")"
      ]
     },
     "metadata": {},
     "output_type": "display_data"
    },
    {
     "data": {
      "text/html": [
       "<div class='display:none'></div><unsafe-script style='display:none'>\n",
       "WebIO.mount(this.previousSibling,{&quot;props&quot;:{&quot;role&quot;:&quot;alert&quot;,&quot;className&quot;:&quot;alert alert-warning&quot;},&quot;nodeType&quot;:&quot;DOM&quot;,&quot;type&quot;:&quot;node&quot;,&quot;instanceArgs&quot;:{&quot;namespace&quot;:&quot;html&quot;,&quot;tag&quot;:&quot;div&quot;},&quot;children&quot;:[{&quot;props&quot;:{&quot;setInnerHtml&quot;:&quot;&lt;div class=\\&quot;markdown\\&quot;&gt;&lt;p&gt;&lt;strong&gt;Warning&amp;#33;&lt;/strong&gt; Snow storm alert&amp;#33; Stay warm&amp;#33;&lt;/p&gt;\\n&lt;/div&gt;&quot;},&quot;nodeType&quot;:&quot;DOM&quot;,&quot;type&quot;:&quot;node&quot;,&quot;instanceArgs&quot;:{&quot;namespace&quot;:&quot;html&quot;,&quot;tag&quot;:&quot;div&quot;},&quot;children&quot;:[]}]})</unsafe-script>"
      ],
      "text/plain": [
       "(div { role=\"alert\" className=\"alert alert-warning\" }\n",
       "  **Warning!** Snow storm alert! Stay warm!\n",
       ")"
      ]
     },
     "metadata": {},
     "output_type": "display_data"
    },
    {
     "data": {
      "text/html": [
       "<div class='display:none'></div><unsafe-script style='display:none'>\n",
       "WebIO.mount(this.previousSibling,{&quot;props&quot;:{&quot;role&quot;:&quot;alert&quot;,&quot;className&quot;:&quot;alert alert-danger&quot;},&quot;nodeType&quot;:&quot;DOM&quot;,&quot;type&quot;:&quot;node&quot;,&quot;instanceArgs&quot;:{&quot;namespace&quot;:&quot;html&quot;,&quot;tag&quot;:&quot;div&quot;},&quot;children&quot;:[{&quot;props&quot;:{&quot;setInnerHtml&quot;:&quot;&lt;div class=\\&quot;markdown\\&quot;&gt;&lt;p&gt;&lt;strong&gt;Error&amp;#33;&lt;/strong&gt; Out of bounds.&lt;/p&gt;\\n&lt;/div&gt;&quot;},&quot;nodeType&quot;:&quot;DOM&quot;,&quot;type&quot;:&quot;node&quot;,&quot;instanceArgs&quot;:{&quot;namespace&quot;:&quot;html&quot;,&quot;tag&quot;:&quot;div&quot;},&quot;children&quot;:[]}]})</unsafe-script>"
      ],
      "text/plain": [
       "(div { role=\"alert\" className=\"alert alert-danger\" }\n",
       "  **Error!** Out of bounds.\n",
       ")"
      ]
     },
     "metadata": {},
     "output_type": "display_data"
    }
   ],
   "source": [
    "\n",
    "function log_info(txt)\n",
    "    display(node(:div, className=\"alert alert-info\", role=\"alert\", txt))\n",
    "end\n",
    "\n",
    "function log_warn(txt)\n",
    "    display(node(:div, className=\"alert alert-warning\", role=\"alert\", txt))\n",
    "end\n",
    "\n",
    "function log_error(txt)\n",
    "    display(node(:div, className=\"alert alert-danger\", role=\"alert\", txt))\n",
    "end\n",
    "log_info(md\"**Heads up!** It's not super important!\")\n",
    "log_warn(md\"**Warning!** Snow storm alert! Stay warm!\")\n",
    "log_error(md\"**Error!** Out of bounds.\")"
   ]
  },
  {
   "cell_type": "markdown",
   "metadata": {
    "slideshow": {
     "slide_type": "slide"
    }
   },
   "source": [
    "## Remedy 1: abstract common parts into a function"
   ]
  },
  {
   "cell_type": "code",
   "execution_count": 58,
   "metadata": {
    "slideshow": {
     "slide_type": "-"
    }
   },
   "outputs": [
    {
     "data": {
      "text/html": [
       "<div class='display:none'></div><unsafe-script style='display:none'>\n",
       "WebIO.mount(this.previousSibling,{&quot;props&quot;:{&quot;role&quot;:&quot;alert&quot;,&quot;className&quot;:&quot;alert alert-info&quot;},&quot;nodeType&quot;:&quot;DOM&quot;,&quot;type&quot;:&quot;node&quot;,&quot;instanceArgs&quot;:{&quot;namespace&quot;:&quot;html&quot;,&quot;tag&quot;:&quot;div&quot;},&quot;children&quot;:[{&quot;props&quot;:{&quot;setInnerHtml&quot;:&quot;&lt;div class=\\&quot;markdown\\&quot;&gt;&lt;p&gt;&lt;strong&gt;Heads up&amp;#33;&lt;/strong&gt; It&amp;#39;s not super important&amp;#33;&lt;/p&gt;\\n&lt;/div&gt;&quot;},&quot;nodeType&quot;:&quot;DOM&quot;,&quot;type&quot;:&quot;node&quot;,&quot;instanceArgs&quot;:{&quot;namespace&quot;:&quot;html&quot;,&quot;tag&quot;:&quot;div&quot;},&quot;children&quot;:[]}]})</unsafe-script>"
      ],
      "text/plain": [
       "(div { role=\"alert\" className=\"alert alert-info\" }\n",
       "  **Heads up!** It's not super important!\n",
       ")"
      ]
     },
     "metadata": {},
     "output_type": "display_data"
    },
    {
     "data": {
      "text/html": [
       "<div class='display:none'></div><unsafe-script style='display:none'>\n",
       "WebIO.mount(this.previousSibling,{&quot;props&quot;:{&quot;role&quot;:&quot;alert&quot;,&quot;className&quot;:&quot;alert alert-warning&quot;},&quot;nodeType&quot;:&quot;DOM&quot;,&quot;type&quot;:&quot;node&quot;,&quot;instanceArgs&quot;:{&quot;namespace&quot;:&quot;html&quot;,&quot;tag&quot;:&quot;div&quot;},&quot;children&quot;:[{&quot;props&quot;:{&quot;setInnerHtml&quot;:&quot;&lt;div class=\\&quot;markdown\\&quot;&gt;&lt;p&gt;&lt;strong&gt;Warning&amp;#33;&lt;/strong&gt; Snow storm alert&amp;#33; Stay warm&amp;#33;&lt;/p&gt;\\n&lt;/div&gt;&quot;},&quot;nodeType&quot;:&quot;DOM&quot;,&quot;type&quot;:&quot;node&quot;,&quot;instanceArgs&quot;:{&quot;namespace&quot;:&quot;html&quot;,&quot;tag&quot;:&quot;div&quot;},&quot;children&quot;:[]}]})</unsafe-script>"
      ],
      "text/plain": [
       "(div { role=\"alert\" className=\"alert alert-warning\" }\n",
       "  **Warning!** Snow storm alert! Stay warm!\n",
       ")"
      ]
     },
     "metadata": {},
     "output_type": "display_data"
    },
    {
     "data": {
      "text/html": [
       "<div class='display:none'></div><unsafe-script style='display:none'>\n",
       "WebIO.mount(this.previousSibling,{&quot;props&quot;:{&quot;role&quot;:&quot;alert&quot;,&quot;className&quot;:&quot;alert alert-danger&quot;},&quot;nodeType&quot;:&quot;DOM&quot;,&quot;type&quot;:&quot;node&quot;,&quot;instanceArgs&quot;:{&quot;namespace&quot;:&quot;html&quot;,&quot;tag&quot;:&quot;div&quot;},&quot;children&quot;:[{&quot;props&quot;:{&quot;setInnerHtml&quot;:&quot;&lt;div class=\\&quot;markdown\\&quot;&gt;&lt;p&gt;&lt;strong&gt;Error&amp;#33;&lt;/strong&gt; Out of bounds.&lt;/p&gt;\\n&lt;/div&gt;&quot;},&quot;nodeType&quot;:&quot;DOM&quot;,&quot;type&quot;:&quot;node&quot;,&quot;instanceArgs&quot;:{&quot;namespace&quot;:&quot;html&quot;,&quot;tag&quot;:&quot;div&quot;},&quot;children&quot;:[]}]})</unsafe-script>"
      ],
      "text/plain": [
       "(div { role=\"alert\" className=\"alert alert-danger\" }\n",
       "  **Error!** Out of bounds.\n",
       ")"
      ]
     },
     "metadata": {},
     "output_type": "display_data"
    }
   ],
   "source": [
    "function _log(class, txt)\n",
    "    display(node(:div, className=\"alert alert-$class\", role=\"alert\", txt))\n",
    "end\n",
    "\n",
    "log_info(txt) = _log(\"info\", txt)\n",
    "log_info(txt) = _log(\"info\", txt)\n",
    "log_info(txt) = _log(\"info\", txt)\n",
    "\n",
    "log_info(md\"**Heads up!** It's not super important!\")\n",
    "log_warn(md\"**Warning!** Snow storm alert! Stay warm!\")\n",
    "log_error(md\"**Error!** Out of bounds.\")"
   ]
  },
  {
   "cell_type": "markdown",
   "metadata": {
    "slideshow": {
     "slide_type": "slide"
    }
   },
   "source": [
    "## Remedy 2: Generate the repetitive functions!"
   ]
  },
  {
   "cell_type": "code",
   "execution_count": 45,
   "metadata": {},
   "outputs": [
    {
     "data": {
      "text/html": [
       "<div class='display:none'></div><unsafe-script style='display:none'>\n",
       "WebIO.mount(this.previousSibling,{&quot;props&quot;:{&quot;role&quot;:&quot;alert&quot;,&quot;className&quot;:&quot;alert alert-info&quot;},&quot;nodeType&quot;:&quot;DOM&quot;,&quot;type&quot;:&quot;node&quot;,&quot;instanceArgs&quot;:{&quot;namespace&quot;:&quot;html&quot;,&quot;tag&quot;:&quot;div&quot;},&quot;children&quot;:[{&quot;props&quot;:{&quot;setInnerHtml&quot;:&quot;&lt;div class=\\&quot;markdown\\&quot;&gt;&lt;p&gt;&lt;strong&gt;Heads up&amp;#33;&lt;/strong&gt; It&amp;#39;s not super important&amp;#33;&lt;/p&gt;\\n&lt;/div&gt;&quot;},&quot;nodeType&quot;:&quot;DOM&quot;,&quot;type&quot;:&quot;node&quot;,&quot;instanceArgs&quot;:{&quot;namespace&quot;:&quot;html&quot;,&quot;tag&quot;:&quot;div&quot;},&quot;children&quot;:[]}]})</unsafe-script>"
      ],
      "text/plain": [
       "(div { role=\"alert\" className=\"alert alert-info\" }\n",
       "  **Heads up!** It's not super important!\n",
       ")"
      ]
     },
     "metadata": {},
     "output_type": "display_data"
    },
    {
     "data": {
      "text/html": [
       "<div class='display:none'></div><unsafe-script style='display:none'>\n",
       "WebIO.mount(this.previousSibling,{&quot;props&quot;:{&quot;role&quot;:&quot;alert&quot;,&quot;className&quot;:&quot;alert alert-warning&quot;},&quot;nodeType&quot;:&quot;DOM&quot;,&quot;type&quot;:&quot;node&quot;,&quot;instanceArgs&quot;:{&quot;namespace&quot;:&quot;html&quot;,&quot;tag&quot;:&quot;div&quot;},&quot;children&quot;:[{&quot;props&quot;:{&quot;setInnerHtml&quot;:&quot;&lt;div class=\\&quot;markdown\\&quot;&gt;&lt;p&gt;&lt;strong&gt;Warning&amp;#33;&lt;/strong&gt; Snow storm alert&amp;#33; Stay warm&amp;#33;&lt;/p&gt;\\n&lt;/div&gt;&quot;},&quot;nodeType&quot;:&quot;DOM&quot;,&quot;type&quot;:&quot;node&quot;,&quot;instanceArgs&quot;:{&quot;namespace&quot;:&quot;html&quot;,&quot;tag&quot;:&quot;div&quot;},&quot;children&quot;:[]}]})</unsafe-script>"
      ],
      "text/plain": [
       "(div { role=\"alert\" className=\"alert alert-warning\" }\n",
       "  **Warning!** Snow storm alert! Stay warm!\n",
       ")"
      ]
     },
     "metadata": {},
     "output_type": "display_data"
    },
    {
     "data": {
      "text/html": [
       "<div class='display:none'></div><unsafe-script style='display:none'>\n",
       "WebIO.mount(this.previousSibling,{&quot;props&quot;:{&quot;role&quot;:&quot;alert&quot;,&quot;className&quot;:&quot;alert alert-danger&quot;},&quot;nodeType&quot;:&quot;DOM&quot;,&quot;type&quot;:&quot;node&quot;,&quot;instanceArgs&quot;:{&quot;namespace&quot;:&quot;html&quot;,&quot;tag&quot;:&quot;div&quot;},&quot;children&quot;:[{&quot;props&quot;:{&quot;setInnerHtml&quot;:&quot;&lt;div class=\\&quot;markdown\\&quot;&gt;&lt;p&gt;&lt;strong&gt;Error&amp;#33;&lt;/strong&gt; Out of bounds.&lt;/p&gt;\\n&lt;/div&gt;&quot;},&quot;nodeType&quot;:&quot;DOM&quot;,&quot;type&quot;:&quot;node&quot;,&quot;instanceArgs&quot;:{&quot;namespace&quot;:&quot;html&quot;,&quot;tag&quot;:&quot;div&quot;},&quot;children&quot;:[]}]})</unsafe-script>"
      ],
      "text/plain": [
       "(div { role=\"alert\" className=\"alert alert-danger\" }\n",
       "  **Error!** Out of bounds.\n",
       ")"
      ]
     },
     "metadata": {},
     "output_type": "display_data"
    },
    {
     "name": "stdout",
     "output_type": "stream",
     "text": [
      "begin\n",
      "    #= In[45]:4 =#\n",
      "    function log_info(txt)\n",
      "        #= In[45]:5 =#\n",
      "        display(node(:div, className=\"alert alert-\" * \"info\", role=\"alert\", txt))\n",
      "    end\n",
      "end\n",
      "begin\n",
      "    #= In[45]:4 =#\n",
      "    function log_warn(txt)\n",
      "        #= In[45]:5 =#\n",
      "        display(node(:div, className=\"alert alert-\" * \"warning\", role=\"alert\", txt))\n",
      "    end\n",
      "end\n",
      "begin\n",
      "    #= In[45]:4 =#\n",
      "    function log_error(txt)\n",
      "        #= In[45]:5 =#\n",
      "        display(node(:div, className=\"alert alert-\" * \"danger\", role=\"alert\", txt))\n",
      "    end\n",
      "end\n"
     ]
    }
   ],
   "source": [
    "for (suffix, class) in [(:info, \"info\"), (:warn, \"warning\"), (:error, \"danger\")]\n",
    "    fn = Symbol(\"log_$suffix\")\n",
    "    ex = quote\n",
    "        function $(fn)(txt)\n",
    "            display(node(:div, className=\"alert alert-\" * $class, role=\"alert\", txt))\n",
    "        end\n",
    "    end\n",
    "    println(ex)\n",
    "    eval(ex)\n",
    "end\n",
    "\n",
    "log_info(md\"**Heads up!** It's not super important!\")\n",
    "log_warn(md\"**Warning!** Snow storm alert! Stay warm!\")\n",
    "log_error(md\"**Error!** Out of bounds.\")"
   ]
  },
  {
   "cell_type": "markdown",
   "metadata": {
    "slideshow": {
     "slide_type": "slide"
    }
   },
   "source": [
    "\n",
    "## Examples from Julia's source code"
   ]
  },
  {
   "cell_type": "markdown",
   "metadata": {},
   "source": [
    "`convert(T, x::S)` is the standard way to convert `x` to `T`\n",
    "\n",
    "**Task:** Define all conversions between `Week`, `Day`, `Hour`, `Minute`, `Second`, `Millisecond`, `Microsecond`, `Nanosecond`\n",
    "\n",
    "8x8 = 64 methods!"
   ]
  },
  {
   "cell_type": "code",
   "execution_count": 49,
   "metadata": {},
   "outputs": [
    {
     "name": "stderr",
     "output_type": "stream",
     "text": [
      "WARNING: redefining constant fixedperiod_conversions\n"
     ]
    }
   ],
   "source": [
    "using Dates\n",
    "# from https://github.com/JuliaLang/julia/blob/1d3c371636e159cb47e68783e8d6ac90feaaace0/stdlib/Dates/src/periods.jl#L395-L418\n",
    "const fixedperiod_conversions = [(:Week, 7), (:Day, 24), (:Hour, 60), (:Minute, 60), (:Second, 1000),\n",
    "                                 (:Millisecond, 1000), (:Microsecond, 1000), (:Nanosecond, 1)]\n",
    "for i = 1:length(fixedperiod_conversions)\n",
    "    T, n = fixedperiod_conversions[i]\n",
    "    N = Int64(1)\n",
    "    for j = (i - 1):-1:1 # to less-precise periods\n",
    "        Tc, nc = fixedperiod_conversions[j]\n",
    "        N *= nc\n",
    "        vmax = typemax(Int64) ÷ N\n",
    "        vmin = typemin(Int64) ÷ N\n",
    "        @eval function Base.convert(::Type{$T}, x::$Tc)\n",
    "            $vmin ≤ value(x) ≤ $vmax || throw(InexactError(:convert, $T, x))\n",
    "            return $T(value(x) * $N)\n",
    "        end\n",
    "    end\n",
    "    N = n\n",
    "    for j = (i + 1):length(fixedperiod_conversions) # to more-precise periods\n",
    "        Tc, nc = fixedperiod_conversions[j]\n",
    "        @eval Base.convert(::Type{$T}, x::$Tc) = $T(divexact(value(x), $N))\n",
    "        N *= nc\n",
    "    end\n",
    "end"
   ]
  },
  {
   "cell_type": "markdown",
   "metadata": {
    "slideshow": {
     "slide_type": "slide"
    }
   },
   "source": [
    "## Macro\n",
    "\n",
    "### General idea:\n",
    "\n",
    "```julia\n",
    "@foo ex1 ex2\n",
    "```\n",
    "\n",
    "is re-written as per:\n",
    "\n",
    "```julia\n",
    "macro foo(ex1, ex2)\n",
    "    ...\n",
    "end\n",
    "```\n",
    "\n",
    "which _returns_ the code to execute.\n",
    "\n",
    "### When are macros re-written?\n",
    "\n",
    "Right after parsing the code, Julia first re-writes macro calls to their corresponding expressions, it then executes the re-written code!"
   ]
  },
  {
   "cell_type": "markdown",
   "metadata": {
    "slideshow": {
     "slide_type": "slide"
    }
   },
   "source": [
    "## Macro example - @flip"
   ]
  },
  {
   "cell_type": "code",
   "execution_count": 50,
   "metadata": {
    "slideshow": {
     "slide_type": "-"
    }
   },
   "outputs": [
    {
     "data": {
      "text/plain": [
       "20"
      ]
     },
     "execution_count": 50,
     "metadata": {},
     "output_type": "execute_result"
    }
   ],
   "source": [
    "macro flip(ex)\n",
    "    Expr(ex.head, ex.args[1], ex.args[3], ex.args[2])\n",
    "end\n",
    "\n",
    "@flip [1,2,3] * [2,3,4]'\n",
    "\n",
    "# [1,2,3] * [2,3,4]'"
   ]
  },
  {
   "cell_type": "markdown",
   "metadata": {},
   "source": [
    "`@macroexpand` is a macro that expands a macro call!"
   ]
  },
  {
   "cell_type": "code",
   "execution_count": 102,
   "metadata": {},
   "outputs": [
    {
     "data": {
      "text/plain": [
       ":(([2, 3, 4])' * [1, 2, 3])"
      ]
     },
     "execution_count": 102,
     "metadata": {},
     "output_type": "execute_result"
    }
   ],
   "source": [
    "@macroexpand @flip [1,2,3] * [2,3,4]'"
   ]
  },
  {
   "cell_type": "markdown",
   "metadata": {
    "slideshow": {
     "slide_type": "slide"
    }
   },
   "source": [
    "## Macro example from Julia - @time"
   ]
  },
  {
   "cell_type": "code",
   "execution_count": 103,
   "metadata": {},
   "outputs": [
    {
     "name": "stdout",
     "output_type": "stream",
     "text": [
      "  0.379349 seconds (14 allocations: 61.188 MiB, 8.93% gc time)\n"
     ]
    },
    {
     "data": {
      "text/plain": [
       "4.346710801284569e10"
      ]
     },
     "execution_count": 103,
     "metadata": {},
     "output_type": "execute_result"
    }
   ],
   "source": [
    "@time peakflops()"
   ]
  },
  {
   "cell_type": "code",
   "execution_count": 111,
   "metadata": {},
   "outputs": [
    {
     "data": {
      "text/html": [
       "@time(__source__::<b>LineNumberNode</b>, __module__::<b>Module</b>, ex) in Base at <a href=\"https://github.com/JuliaLang/julia/tree/d789231e9985537686052db9b2314c0d51656308/base/util.jl#L153\" target=\"_blank\">util.jl:153</a>"
      ],
      "text/plain": [
       "@time(__source__::LineNumberNode, __module__::Module, ex) in Base at util.jl:153"
      ]
     },
     "execution_count": 111,
     "metadata": {},
     "output_type": "execute_result"
    }
   ],
   "source": [
    "@which @time peakflops()"
   ]
  },
  {
   "cell_type": "code",
   "execution_count": 56,
   "metadata": {},
   "outputs": [
    {
     "data": {
      "text/plain": [
       "quote\n",
       "    #= util.jl:154 =#\n",
       "    local #74#stats = (Base.gc_num)()\n",
       "    #= util.jl:155 =#\n",
       "    local #76#elapsedtime = (Base.time_ns)()\n",
       "    #= util.jl:156 =#\n",
       "    local #75#val = peakflops()\n",
       "    #= util.jl:157 =#\n",
       "    #76#elapsedtime = (Base.time_ns)() - #76#elapsedtime\n",
       "    #= util.jl:158 =#\n",
       "    local #77#diff = (Base.GC_Diff)((Base.gc_num)(), #74#stats)\n",
       "    #= util.jl:159 =#\n",
       "    (Base.time_print)(#76#elapsedtime, (#77#diff).allocd, (#77#diff).total_time, (Base.gc_alloc_count)(#77#diff))\n",
       "    #= util.jl:161 =#\n",
       "    (Base.println)()\n",
       "    #= util.jl:162 =#\n",
       "    #75#val\n",
       "end"
      ]
     },
     "execution_count": 56,
     "metadata": {},
     "output_type": "execute_result"
    }
   ],
   "source": [
    "ex1 = @macroexpand @time peakflops()"
   ]
  },
  {
   "cell_type": "markdown",
   "metadata": {
    "slideshow": {
     "slide_type": "subslide"
    }
   },
   "source": [
    "## MacroTools.prettify removes junk"
   ]
  },
  {
   "cell_type": "code",
   "execution_count": 57,
   "metadata": {
    "slideshow": {
     "slide_type": "-"
    }
   },
   "outputs": [
    {
     "data": {
      "text/plain": [
       "quote\n",
       "    local alpaca = (Base.gc_num)()\n",
       "    local hummingbird = (Base.time_ns)()\n",
       "    local panther = peakflops()\n",
       "    hummingbird = (Base.time_ns)() - hummingbird\n",
       "    local seal = (Base.GC_Diff)((Base.gc_num)(), alpaca)\n",
       "    (Base.time_print)(hummingbird, seal.allocd, seal.total_time, (Base.gc_alloc_count)(seal))\n",
       "    (Base.println)()\n",
       "    panther\n",
       "end"
      ]
     },
     "execution_count": 57,
     "metadata": {},
     "output_type": "execute_result"
    }
   ],
   "source": [
    "using MacroTools\n",
    "\n",
    "prettify(ex1)"
   ]
  },
  {
   "cell_type": "markdown",
   "metadata": {
    "slideshow": {
     "slide_type": "slide"
    }
   },
   "source": [
    "## Excercise: Differentiation!"
   ]
  },
  {
   "cell_type": "code",
   "execution_count": 144,
   "metadata": {},
   "outputs": [
    {
     "data": {
      "text/plain": [
       "diffexpr (generic function with 2 methods)"
      ]
     },
     "execution_count": 144,
     "metadata": {},
     "output_type": "execute_result"
    }
   ],
   "source": [
    "repexpr(ex::Symbol, sym, repex) = ex == sym ? repex : ex\n",
    "function repexpr(ex, sym, repex)\n",
    "    Expr(ex.head, repexpr.(ex.args, sym, (repex,))...)\n",
    "end\n",
    "\n",
    "function diffexpr(ex, wrt)\n",
    "    if ex isa Number\n",
    "        return 0.0\n",
    "    elseif ex isa Symbol\n",
    "        ex == wrt ? 1.0 : 0.0\n",
    "    end\n",
    "        \n",
    "    @assert ex.head == :call\n",
    "    fn = ex.args[1]\n",
    "\n",
    "    # the derivative of f(g(x)) = f'(g(x))g'(x)\n",
    "    # so if a call expr contains another call! intercept!\n",
    "    if ex.args[2] isa Expr && ex.head == :call && length(ex.args) == 2\n",
    "        g = ex.args[2]\n",
    "        f′ = diffexpr(Expr(:call, ex.args[1], wrt), wrt)\n",
    "        # replace x with g(x)\n",
    "        f′ = repexpr(f′, wrt, g)\n",
    "        g′ = diffexpr(g)\n",
    "        return :($f′ * $g′)\n",
    "    end\n",
    "\n",
    "    if fn == :sin\n",
    "        return Expr(:call, :cos, ex.args[2])\n",
    "    elseif fn == :cos\n",
    "        Expr(:call, :-, Expr(:call, :sin, ex.args[2]))\n",
    "    elseif fn == :exp\n",
    "        # ...Fill this!\n",
    "    elseif fn == :^\n",
    "        @assert ex.args[3] isa Number\n",
    "        # ...\n",
    "    elseif fn == :+\n",
    "        # addition rule    (f + g)’ = f’ + g’\n",
    "    elseif fn == :*\n",
    "        # product rule!    (f g)’ = f g’ + f’ g\n",
    "    elseif fn == :/\n",
    "        # quotient rule!!  (f/g)’ = (f’ g − g’ f )/(g^2)\n",
    "    end\n",
    "end"
   ]
  },
  {
   "cell_type": "code",
   "execution_count": 136,
   "metadata": {},
   "outputs": [
    {
     "name": "stdout",
     "output_type": "stream",
     "text": [
      "cos(x)\n",
      "-(sin(x))\n",
      "-(sin(sin(x))) * cos(x)\n"
     ]
    }
   ],
   "source": [
    "# This should already work!\n",
    "diffexpr(:(sin(x)), :x) |> println\n",
    "diffexpr(:(cos(x)), :x) |> println\n",
    "diffexpr(:(cos(sin(x))), :x) |> println"
   ]
  },
  {
   "cell_type": "markdown",
   "metadata": {},
   "source": [
    "## Make thes work!"
   ]
  },
  {
   "cell_type": "code",
   "execution_count": 137,
   "metadata": {},
   "outputs": [],
   "source": [
    "# Task 0:\n",
    "\n",
    "diffexpr(:(exp(x)), :x)"
   ]
  },
  {
   "cell_type": "code",
   "execution_count": 109,
   "metadata": {},
   "outputs": [],
   "source": [
    "# Task 1:\n",
    "\n",
    "diffexpr(:(x^3), :x)"
   ]
  },
  {
   "cell_type": "code",
   "execution_count": 110,
   "metadata": {},
   "outputs": [],
   "source": [
    "# Task 2:\n",
    "\n",
    "diffexpr(:(sin(x) + cos(x)), :x)"
   ]
  },
  {
   "cell_type": "code",
   "execution_count": null,
   "metadata": {},
   "outputs": [],
   "source": [
    "# Task 3:\n",
    "\n",
    "diffexpr(:(sin(x) * cos(x)), :x)"
   ]
  },
  {
   "cell_type": "code",
   "execution_count": null,
   "metadata": {},
   "outputs": [],
   "source": [
    "# Task 4:\n",
    "\n",
    "diffexpr(:(sin(x) / cos(x)), :x)"
   ]
  },
  {
   "cell_type": "markdown",
   "metadata": {},
   "source": [
    "## Do these expressions work (composition)?"
   ]
  },
  {
   "cell_type": "code",
   "execution_count": 111,
   "metadata": {},
   "outputs": [],
   "source": [
    "diffexpr(:(sin(cos(x)) + cos(x)), :x)"
   ]
  },
  {
   "cell_type": "code",
   "execution_count": 112,
   "metadata": {},
   "outputs": [],
   "source": [
    "diffexpr(:(sin(x^2) + cos(x^2)), :x)"
   ]
  },
  {
   "cell_type": "code",
   "execution_count": 113,
   "metadata": {},
   "outputs": [
    {
     "ename": "ErrorException",
     "evalue": "type Nothing has no field head",
     "output_type": "error",
     "traceback": [
      "type Nothing has no field head",
      "",
      "Stacktrace:",
      " [1] getproperty(::Any, ::Symbol) at ./sysimg.jl:18",
      " [2] repexpr(::Nothing, ::Symbol, ::Expr) at ./In[96]:3",
      " [3] diffexpr(::Expr, ::Symbol) at ./In[96]:22",
      " [4] top-level scope at In[113]:1"
     ]
    }
   ],
   "source": [
    "diffexpr(:(exp(x^2)), :x)"
   ]
  },
  {
   "cell_type": "markdown",
   "metadata": {},
   "source": [
    "## Write the macro\n",
    "\n",
    "Recall:\n",
    "\n",
    "```julia\n",
    "@foo ex1 ex2\n",
    "```\n",
    "\n",
    "is re-written as per:\n",
    "\n",
    "```julia\n",
    "macro foo(ex1, ex2)\n",
    "    ...\n",
    "end\n",
    "```\n"
   ]
  },
  {
   "cell_type": "code",
   "execution_count": 121,
   "metadata": {},
   "outputs": [
    {
     "data": {
      "text/plain": [
       "@diff (macro with 1 method)"
      ]
     },
     "execution_count": 121,
     "metadata": {},
     "output_type": "execute_result"
    }
   ],
   "source": [
    "macro diff(ex, wrt)\n",
    "    diffexpr(ex, wrt)\n",
    "end"
   ]
  },
  {
   "cell_type": "code",
   "execution_count": 138,
   "metadata": {},
   "outputs": [
    {
     "data": {
      "text/plain": [
       "dsin (generic function with 1 method)"
      ]
     },
     "execution_count": 138,
     "metadata": {},
     "output_type": "execute_result"
    }
   ],
   "source": [
    "dsin(x) = @diff sin(x) x"
   ]
  },
  {
   "cell_type": "code",
   "execution_count": 139,
   "metadata": {},
   "outputs": [
    {
     "data": {
      "text/plain": [
       "6.123233995736766e-17"
      ]
     },
     "execution_count": 139,
     "metadata": {},
     "output_type": "execute_result"
    }
   ],
   "source": [
    "dsin(pi/2)"
   ]
  },
  {
   "cell_type": "markdown",
   "metadata": {},
   "source": [
    "# `esc` -- treat variables as coming from outside the macro!"
   ]
  },
  {
   "cell_type": "code",
   "execution_count": 140,
   "metadata": {},
   "outputs": [
    {
     "data": {
      "text/plain": [
       "@diff (macro with 1 method)"
      ]
     },
     "execution_count": 140,
     "metadata": {},
     "output_type": "execute_result"
    }
   ],
   "source": [
    "macro diff(ex, wrt)\n",
    "    esc(diffexpr(ex, wrt))\n",
    "end"
   ]
  },
  {
   "cell_type": "code",
   "execution_count": 141,
   "metadata": {},
   "outputs": [
    {
     "data": {
      "text/plain": [
       "dsin (generic function with 1 method)"
      ]
     },
     "execution_count": 141,
     "metadata": {},
     "output_type": "execute_result"
    }
   ],
   "source": [
    "dsin(x) = @diff sin(x) x"
   ]
  },
  {
   "cell_type": "code",
   "execution_count": 142,
   "metadata": {},
   "outputs": [
    {
     "data": {
      "text/plain": [
       "6.123233995736766e-17"
      ]
     },
     "execution_count": 142,
     "metadata": {},
     "output_type": "execute_result"
    }
   ],
   "source": [
    "dsin(pi/2)"
   ]
  },
  {
   "cell_type": "code",
   "execution_count": null,
   "metadata": {},
   "outputs": [],
   "source": []
  }
 ],
 "metadata": {
  "@webio": {
   "lastCommId": "cf2a2a1b85e547b0b780200652c11711",
   "lastKernelId": "c5097b7b-3eb2-4fc5-b252-bc173d988b39"
  },
  "celltoolbar": "Slideshow",
  "kernelspec": {
   "display_name": "Julia 1.0.2",
   "language": "julia",
   "name": "julia-1.0"
  },
  "language_info": {
   "file_extension": ".jl",
   "mimetype": "application/julia",
   "name": "julia",
   "version": "1.0.2"
  }
 },
 "nbformat": 4,
 "nbformat_minor": 2
}
