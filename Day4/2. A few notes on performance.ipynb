{
 "cells": [
  {
   "cell_type": "markdown",
   "metadata": {},
   "source": [
    "# A few more notes on performance \n",
    "\n",
    "Here are a few more things to keep in mind: "
   ]
  },
  {
   "cell_type": "markdown",
   "metadata": {},
   "source": [
    "## Avoid globals."
   ]
  },
  {
   "cell_type": "code",
   "execution_count": 1,
   "metadata": {},
   "outputs": [],
   "source": [
    "using BenchmarkTools"
   ]
  },
  {
   "cell_type": "code",
   "execution_count": 2,
   "metadata": {},
   "outputs": [
    {
     "data": {
      "text/plain": [
       "mysum2 (generic function with 1 method)"
      ]
     },
     "execution_count": 2,
     "metadata": {},
     "output_type": "execute_result"
    }
   ],
   "source": [
    "a = rand(10^7)\n",
    "function mysum1()\n",
    "    s = zero(eltype(a))\n",
    "    for x in a \n",
    "        s += x\n",
    "    end\n",
    "    s\n",
    "end\n",
    "function mysum2(a::Vector{T}) where T\n",
    "    s = zero(eltype(a))\n",
    "    for x in a \n",
    "        s += x\n",
    "    end\n",
    "    s\n",
    "end"
   ]
  },
  {
   "cell_type": "code",
   "execution_count": 3,
   "metadata": {},
   "outputs": [
    {
     "data": {
      "text/plain": [
       "BenchmarkTools.Trial: \n",
       "  memory estimate:  762.93 MiB\n",
       "  allocs estimate:  39999490\n",
       "  --------------\n",
       "  minimum time:     969.874 ms (4.76% GC)\n",
       "  median time:      989.879 ms (4.67% GC)\n",
       "  mean time:        986.692 ms (4.72% GC)\n",
       "  maximum time:     1.005 s (4.81% GC)\n",
       "  --------------\n",
       "  samples:          6\n",
       "  evals/sample:     1"
      ]
     },
     "execution_count": 3,
     "metadata": {},
     "output_type": "execute_result"
    }
   ],
   "source": [
    "@benchmark mysum1()"
   ]
  },
  {
   "cell_type": "code",
   "execution_count": 4,
   "metadata": {},
   "outputs": [
    {
     "data": {
      "text/plain": [
       "BenchmarkTools.Trial: \n",
       "  memory estimate:  0 bytes\n",
       "  allocs estimate:  0\n",
       "  --------------\n",
       "  minimum time:     9.740 ms (0.00% GC)\n",
       "  median time:      10.162 ms (0.00% GC)\n",
       "  mean time:        10.223 ms (0.00% GC)\n",
       "  maximum time:     12.127 ms (0.00% GC)\n",
       "  --------------\n",
       "  samples:          489\n",
       "  evals/sample:     1"
      ]
     },
     "execution_count": 4,
     "metadata": {},
     "output_type": "execute_result"
    }
   ],
   "source": [
    "@benchmark mysum2($a)"
   ]
  },
  {
   "cell_type": "markdown",
   "metadata": {},
   "source": [
    "## Avoid fields with abstract types "
   ]
  },
  {
   "cell_type": "code",
   "execution_count": 13,
   "metadata": {},
   "outputs": [],
   "source": [
    "struct Typ1\n",
    "    a::Real\n",
    "end"
   ]
  },
  {
   "cell_type": "code",
   "execution_count": 15,
   "metadata": {},
   "outputs": [],
   "source": [
    "Base.:+(a::Typ1, b::Typ1) = Typ1(a.a + b.a)"
   ]
  },
  {
   "cell_type": "code",
   "execution_count": 19,
   "metadata": {},
   "outputs": [
    {
     "name": "stdout",
     "output_type": "stream",
     "text": [
      "  0.065380 seconds (1.06 M allocations: 25.622 MiB)\n"
     ]
    }
   ],
   "source": [
    "@time x = [Typ1(1.) for i = 1:10^6];"
   ]
  },
  {
   "cell_type": "code",
   "execution_count": 21,
   "metadata": {},
   "outputs": [
    {
     "data": {
      "text/plain": [
       "BenchmarkTools.Trial: \n",
       "  memory estimate:  45.78 MiB\n",
       "  allocs estimate:  2999997\n",
       "  --------------\n",
       "  minimum time:     188.380 ms (0.74% GC)\n",
       "  median time:      189.472 ms (0.76% GC)\n",
       "  mean time:        191.168 ms (0.78% GC)\n",
       "  maximum time:     204.946 ms (0.74% GC)\n",
       "  --------------\n",
       "  samples:          27\n",
       "  evals/sample:     1"
      ]
     },
     "execution_count": 21,
     "metadata": {},
     "output_type": "execute_result"
    }
   ],
   "source": [
    "@benchmark sum($x)"
   ]
  },
  {
   "cell_type": "code",
   "execution_count": 23,
   "metadata": {},
   "outputs": [],
   "source": [
    "struct Typ2{T <: Real}\n",
    "    a::T\n",
    "end"
   ]
  },
  {
   "cell_type": "code",
   "execution_count": 24,
   "metadata": {},
   "outputs": [],
   "source": [
    "Base.:+(a::Typ2, b::Typ2) = Typ2(a.a + b.a)"
   ]
  },
  {
   "cell_type": "code",
   "execution_count": 27,
   "metadata": {},
   "outputs": [
    {
     "name": "stdout",
     "output_type": "stream",
     "text": [
      "  0.032684 seconds (56.27 k allocations: 10.418 MiB)\n"
     ]
    }
   ],
   "source": [
    "@time y = [Typ2(1.) for i = 1:10^6];"
   ]
  },
  {
   "cell_type": "code",
   "execution_count": 28,
   "metadata": {},
   "outputs": [
    {
     "data": {
      "text/plain": [
       "BenchmarkTools.Trial: \n",
       "  memory estimate:  0 bytes\n",
       "  allocs estimate:  0\n",
       "  --------------\n",
       "  minimum time:     439.833 μs (0.00% GC)\n",
       "  median time:      535.813 μs (0.00% GC)\n",
       "  mean time:        629.596 μs (0.00% GC)\n",
       "  maximum time:     28.757 ms (0.00% GC)\n",
       "  --------------\n",
       "  samples:          7758\n",
       "  evals/sample:     1"
      ]
     },
     "execution_count": 28,
     "metadata": {},
     "output_type": "execute_result"
    }
   ],
   "source": [
    "@benchmark sum($y)"
   ]
  },
  {
   "cell_type": "markdown",
   "metadata": {},
   "source": [
    "## Pre-allocate instead of appending"
   ]
  },
  {
   "cell_type": "code",
   "execution_count": 33,
   "metadata": {},
   "outputs": [
    {
     "data": {
      "text/plain": [
       "myinc2 (generic function with 1 method)"
      ]
     },
     "execution_count": 33,
     "metadata": {},
     "output_type": "execute_result"
    }
   ],
   "source": [
    "a = rand(10^7)\n",
    "function myinc1(a::Vector{T}) where T \n",
    "    b = Vector{T}()\n",
    "    for i = 1:size(a,1)\n",
    "        push!(b, a[i]+1)\n",
    "    end\n",
    "    b\n",
    "end\n",
    "function myinc2(a::Vector{T}) where T \n",
    "    l = length(a)\n",
    "    b = copy(a)\n",
    "    for i = 1:size(a,1)\n",
    "        b[i] = a[i]+1\n",
    "    end\n",
    "    b\n",
    "end"
   ]
  },
  {
   "cell_type": "code",
   "execution_count": 34,
   "metadata": {},
   "outputs": [
    {
     "data": {
      "text/plain": [
       "BenchmarkTools.Trial: \n",
       "  memory estimate:  129.00 MiB\n",
       "  allocs estimate:  24\n",
       "  --------------\n",
       "  minimum time:     147.597 ms (0.84% GC)\n",
       "  median time:      221.470 ms (32.23% GC)\n",
       "  mean time:        221.158 ms (32.60% GC)\n",
       "  maximum time:     297.263 ms (49.38% GC)\n",
       "  --------------\n",
       "  samples:          22\n",
       "  evals/sample:     1"
      ]
     },
     "execution_count": 34,
     "metadata": {},
     "output_type": "execute_result"
    }
   ],
   "source": [
    "@benchmark myinc1($a)"
   ]
  },
  {
   "cell_type": "code",
   "execution_count": 35,
   "metadata": {},
   "outputs": [
    {
     "data": {
      "text/plain": [
       "BenchmarkTools.Trial: \n",
       "  memory estimate:  76.29 MiB\n",
       "  allocs estimate:  2\n",
       "  --------------\n",
       "  minimum time:     32.978 ms (1.93% GC)\n",
       "  median time:      34.622 ms (18.94% GC)\n",
       "  mean time:        36.670 ms (20.75% GC)\n",
       "  maximum time:     163.291 ms (82.76% GC)\n",
       "  --------------\n",
       "  samples:          137\n",
       "  evals/sample:     1"
      ]
     },
     "execution_count": 35,
     "metadata": {},
     "output_type": "execute_result"
    }
   ],
   "source": [
    "@benchmark myinc2($a)"
   ]
  }
 ],
 "metadata": {
  "kernelspec": {
   "display_name": "Julia 1.1.0",
   "language": "julia",
   "name": "julia-1.1"
  },
  "language_info": {
   "file_extension": ".jl",
   "mimetype": "application/julia",
   "name": "julia",
   "version": "1.1.0"
  }
 },
 "nbformat": 4,
 "nbformat_minor": 2
}
